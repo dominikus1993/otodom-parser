{
 "metadata": {
  "language_info": {
   "codemirror_mode": {
    "name": "ipython",
    "version": 3
   },
   "file_extension": ".py",
   "mimetype": "text/x-python",
   "name": "python",
   "nbconvert_exporter": "python",
   "pygments_lexer": "ipython3",
   "version": "3.9.2-final"
  },
  "orig_nbformat": 2,
  "kernelspec": {
   "name": "python3",
   "display_name": "Python 3.9.2 64-bit",
   "metadata": {
    "interpreter": {
     "hash": "4cd7ab41f5fca4b9b44701077e38c5ffd31fe66a6cab21e0214b68d958d0e462"
    }
   }
  }
 },
 "nbformat": 4,
 "nbformat_minor": 2,
 "cells": [
  {
   "cell_type": "code",
   "execution_count": 1,
   "metadata": {},
   "outputs": [
    {
     "output_type": "stream",
     "name": "stdout",
     "text": [
      "['./data/otodom-2021-03-09.csv', './data/otodom-2021-03-10.csv']\n"
     ]
    }
   ],
   "source": [
    "from utils import get_file_names\n",
    "\n",
    "files = get_file_names()\n",
    "\n",
    "print(files)"
   ]
  },
  {
   "cell_type": "code",
   "execution_count": 2,
   "metadata": {},
   "outputs": [],
   "source": [
    "from utils import load_csvs\n",
    "\n",
    "data = load_csvs(files)"
   ]
  },
  {
   "cell_type": "code",
   "execution_count": 3,
   "metadata": {},
   "outputs": [
    {
     "output_type": "execute_result",
     "data": {
      "text/plain": [
       "         Data           Cena\n",
       "0  2021-03-09  328579.295414\n",
       "1  2021-03-10  327804.367562"
      ],
      "text/html": "<div>\n<style scoped>\n    .dataframe tbody tr th:only-of-type {\n        vertical-align: middle;\n    }\n\n    .dataframe tbody tr th {\n        vertical-align: top;\n    }\n\n    .dataframe thead th {\n        text-align: right;\n    }\n</style>\n<table border=\"1\" class=\"dataframe\">\n  <thead>\n    <tr style=\"text-align: right;\">\n      <th></th>\n      <th>Data</th>\n      <th>Cena</th>\n    </tr>\n  </thead>\n  <tbody>\n    <tr>\n      <th>0</th>\n      <td>2021-03-09</td>\n      <td>328579.295414</td>\n    </tr>\n    <tr>\n      <th>1</th>\n      <td>2021-03-10</td>\n      <td>327804.367562</td>\n    </tr>\n  </tbody>\n</table>\n</div>"
     },
     "metadata": {},
     "execution_count": 3
    }
   ],
   "source": [
    "from data import calc_avg_price_per_day\n",
    "\n",
    "calc_avg_price_per_day(data)"
   ]
  },
  {
   "cell_type": "code",
   "execution_count": 4,
   "metadata": {},
   "outputs": [
    {
     "output_type": "execute_result",
     "data": {
      "text/plain": [
       "         Data   Cena za m2\n",
       "0  2021-03-09  6345.483439\n",
       "1  2021-03-10  6339.482874"
      ],
      "text/html": "<div>\n<style scoped>\n    .dataframe tbody tr th:only-of-type {\n        vertical-align: middle;\n    }\n\n    .dataframe tbody tr th {\n        vertical-align: top;\n    }\n\n    .dataframe thead th {\n        text-align: right;\n    }\n</style>\n<table border=\"1\" class=\"dataframe\">\n  <thead>\n    <tr style=\"text-align: right;\">\n      <th></th>\n      <th>Data</th>\n      <th>Cena za m2</th>\n    </tr>\n  </thead>\n  <tbody>\n    <tr>\n      <th>0</th>\n      <td>2021-03-09</td>\n      <td>6345.483439</td>\n    </tr>\n    <tr>\n      <th>1</th>\n      <td>2021-03-10</td>\n      <td>6339.482874</td>\n    </tr>\n  </tbody>\n</table>\n</div>"
     },
     "metadata": {},
     "execution_count": 4
    }
   ],
   "source": [
    "from data import calc_avg_price_per_meter_per_day\n",
    "\n",
    "calc_avg_price_per_meter_per_day(data)"
   ]
  },
  {
   "cell_type": "code",
   "execution_count": 5,
   "metadata": {},
   "outputs": [
    {
     "output_type": "execute_result",
     "data": {
      "text/plain": [
       "     Powierzchnia       Cena\n",
       "0           11.50    79900.0\n",
       "1           13.00     7000.0\n",
       "2           13.06    64900.0\n",
       "3           14.00   135950.0\n",
       "4           14.14   135000.0\n",
       "..            ...        ...\n",
       "659        178.50   860000.0\n",
       "660        200.00  1000000.0\n",
       "661        220.00  1430000.0\n",
       "662        310.00  1100000.0\n",
       "663        343.59  1290000.0\n",
       "\n",
       "[664 rows x 2 columns]"
      ],
      "text/html": "<div>\n<style scoped>\n    .dataframe tbody tr th:only-of-type {\n        vertical-align: middle;\n    }\n\n    .dataframe tbody tr th {\n        vertical-align: top;\n    }\n\n    .dataframe thead th {\n        text-align: right;\n    }\n</style>\n<table border=\"1\" class=\"dataframe\">\n  <thead>\n    <tr style=\"text-align: right;\">\n      <th></th>\n      <th>Powierzchnia</th>\n      <th>Cena</th>\n    </tr>\n  </thead>\n  <tbody>\n    <tr>\n      <th>0</th>\n      <td>11.50</td>\n      <td>79900.0</td>\n    </tr>\n    <tr>\n      <th>1</th>\n      <td>13.00</td>\n      <td>7000.0</td>\n    </tr>\n    <tr>\n      <th>2</th>\n      <td>13.06</td>\n      <td>64900.0</td>\n    </tr>\n    <tr>\n      <th>3</th>\n      <td>14.00</td>\n      <td>135950.0</td>\n    </tr>\n    <tr>\n      <th>4</th>\n      <td>14.14</td>\n      <td>135000.0</td>\n    </tr>\n    <tr>\n      <th>...</th>\n      <td>...</td>\n      <td>...</td>\n    </tr>\n    <tr>\n      <th>659</th>\n      <td>178.50</td>\n      <td>860000.0</td>\n    </tr>\n    <tr>\n      <th>660</th>\n      <td>200.00</td>\n      <td>1000000.0</td>\n    </tr>\n    <tr>\n      <th>661</th>\n      <td>220.00</td>\n      <td>1430000.0</td>\n    </tr>\n    <tr>\n      <th>662</th>\n      <td>310.00</td>\n      <td>1100000.0</td>\n    </tr>\n    <tr>\n      <th>663</th>\n      <td>343.59</td>\n      <td>1290000.0</td>\n    </tr>\n  </tbody>\n</table>\n<p>664 rows × 2 columns</p>\n</div>"
     },
     "metadata": {},
     "execution_count": 5
    }
   ],
   "source": [
    "\n",
    "from data import calc_avg_price_per_area\n",
    "\n",
    "calc_avg_price_per_area(data)"
   ]
  },
  {
   "cell_type": "code",
   "execution_count": 6,
   "metadata": {},
   "outputs": [
    {
     "output_type": "execute_result",
     "data": {
      "text/plain": [
       "                                                   Opis          Dzielnica  \\\n",
       "2031                        REZERWACJA!!!! Przełajowa 2  Polesie, Retkinia   \n",
       "1673  Mieszkanie Tribal Boho przy Filmówce i Parku Ź...            łódzkie   \n",
       "2701     M-4 (57) 7p./w. m.rozkładowe z balkonem/Bałuty            łódzkie   \n",
       "2412                           M4 po remoncie Teofilów.   Bałuty, Teofilów   \n",
       "1585                            Mieszkanie, 49,13, Łódź            łódzkie   \n",
       "...                                                 ...                ...   \n",
       "2778              M-3 Górna - os. Piastów - duży balkon            łódzkie   \n",
       "3002                          Mieszkanie - Łódź Żubardź    Bałuty, Żubardź   \n",
       "2800  Przestronne \"M\" na Retkinii - 42,42 m2 Rezerwacja  Polesie, Retkinia   \n",
       "2957                          M2 Osiedle Mireckiego !!!            Polesie   \n",
       "1941                     M3 Retkinia parter, punktowiec  Polesie, Retkinia   \n",
       "\n",
       "     Ilość pokoi      Cena  Powierzchnia  Cena za m2        Data  \\\n",
       "2031           3  349000.0         53.00      6585.0  2021-03-10   \n",
       "1673           2  349000.0         40.33      8654.0  2021-03-10   \n",
       "2701           3  349000.0         57.00      6123.0  2021-03-10   \n",
       "2412           3  349000.0         57.90      6028.0  2021-03-10   \n",
       "1585           3  347521.0         49.13      7073.0  2021-03-10   \n",
       "...          ...       ...           ...         ...         ...   \n",
       "2778           2  255000.0         45.00      5667.0  2021-03-10   \n",
       "3002           2  254000.0         44.00      5773.0  2021-03-10   \n",
       "2800           2  253000.0         42.42      5964.0  2021-03-10   \n",
       "2957           1  252000.0         42.00      6000.0  2021-03-10   \n",
       "1941           2  252000.0         42.42      5941.0  2021-03-10   \n",
       "\n",
       "                                     Link do ogłoszenia  \n",
       "2031  https://www.otodom.pl/pl/oferta/rezerwacja-prz...  \n",
       "1673  https://www.otodom.pl/pl/oferta/mieszkanie-tri...  \n",
       "2701  https://www.otodom.pl/pl/oferta/m-4-57-7p-w-m-...  \n",
       "2412  https://www.otodom.pl/pl/oferta/m4-po-remoncie...  \n",
       "1585  https://www.otodom.pl/pl/oferta/mieszkanie-49-...  \n",
       "...                                                 ...  \n",
       "2778  https://www.otodom.pl/pl/oferta/m-3-gorna-os-p...  \n",
       "3002  https://www.otodom.pl/pl/oferta/mieszkanie-lod...  \n",
       "2800  https://www.otodom.pl/pl/oferta/przestronne-m-...  \n",
       "2957  https://www.otodom.pl/pl/oferta/m2-osiedle-mir...  \n",
       "1941  https://www.otodom.pl/pl/oferta/m3-retkinia-pa...  \n",
       "\n",
       "[216 rows x 8 columns]"
      ],
      "text/html": "<div>\n<style scoped>\n    .dataframe tbody tr th:only-of-type {\n        vertical-align: middle;\n    }\n\n    .dataframe tbody tr th {\n        vertical-align: top;\n    }\n\n    .dataframe thead th {\n        text-align: right;\n    }\n</style>\n<table border=\"1\" class=\"dataframe\">\n  <thead>\n    <tr style=\"text-align: right;\">\n      <th></th>\n      <th>Opis</th>\n      <th>Dzielnica</th>\n      <th>Ilość pokoi</th>\n      <th>Cena</th>\n      <th>Powierzchnia</th>\n      <th>Cena za m2</th>\n      <th>Data</th>\n      <th>Link do ogłoszenia</th>\n    </tr>\n  </thead>\n  <tbody>\n    <tr>\n      <th>2031</th>\n      <td>REZERWACJA!!!! Przełajowa 2</td>\n      <td>Polesie, Retkinia</td>\n      <td>3</td>\n      <td>349000.0</td>\n      <td>53.00</td>\n      <td>6585.0</td>\n      <td>2021-03-10</td>\n      <td>https://www.otodom.pl/pl/oferta/rezerwacja-prz...</td>\n    </tr>\n    <tr>\n      <th>1673</th>\n      <td>Mieszkanie Tribal Boho przy Filmówce i Parku Ź...</td>\n      <td>łódzkie</td>\n      <td>2</td>\n      <td>349000.0</td>\n      <td>40.33</td>\n      <td>8654.0</td>\n      <td>2021-03-10</td>\n      <td>https://www.otodom.pl/pl/oferta/mieszkanie-tri...</td>\n    </tr>\n    <tr>\n      <th>2701</th>\n      <td>M-4 (57) 7p./w. m.rozkładowe z balkonem/Bałuty</td>\n      <td>łódzkie</td>\n      <td>3</td>\n      <td>349000.0</td>\n      <td>57.00</td>\n      <td>6123.0</td>\n      <td>2021-03-10</td>\n      <td>https://www.otodom.pl/pl/oferta/m-4-57-7p-w-m-...</td>\n    </tr>\n    <tr>\n      <th>2412</th>\n      <td>M4 po remoncie Teofilów.</td>\n      <td>Bałuty, Teofilów</td>\n      <td>3</td>\n      <td>349000.0</td>\n      <td>57.90</td>\n      <td>6028.0</td>\n      <td>2021-03-10</td>\n      <td>https://www.otodom.pl/pl/oferta/m4-po-remoncie...</td>\n    </tr>\n    <tr>\n      <th>1585</th>\n      <td>Mieszkanie, 49,13, Łódź</td>\n      <td>łódzkie</td>\n      <td>3</td>\n      <td>347521.0</td>\n      <td>49.13</td>\n      <td>7073.0</td>\n      <td>2021-03-10</td>\n      <td>https://www.otodom.pl/pl/oferta/mieszkanie-49-...</td>\n    </tr>\n    <tr>\n      <th>...</th>\n      <td>...</td>\n      <td>...</td>\n      <td>...</td>\n      <td>...</td>\n      <td>...</td>\n      <td>...</td>\n      <td>...</td>\n      <td>...</td>\n    </tr>\n    <tr>\n      <th>2778</th>\n      <td>M-3 Górna - os. Piastów - duży balkon</td>\n      <td>łódzkie</td>\n      <td>2</td>\n      <td>255000.0</td>\n      <td>45.00</td>\n      <td>5667.0</td>\n      <td>2021-03-10</td>\n      <td>https://www.otodom.pl/pl/oferta/m-3-gorna-os-p...</td>\n    </tr>\n    <tr>\n      <th>3002</th>\n      <td>Mieszkanie - Łódź Żubardź</td>\n      <td>Bałuty, Żubardź</td>\n      <td>2</td>\n      <td>254000.0</td>\n      <td>44.00</td>\n      <td>5773.0</td>\n      <td>2021-03-10</td>\n      <td>https://www.otodom.pl/pl/oferta/mieszkanie-lod...</td>\n    </tr>\n    <tr>\n      <th>2800</th>\n      <td>Przestronne \"M\" na Retkinii - 42,42 m2 Rezerwacja</td>\n      <td>Polesie, Retkinia</td>\n      <td>2</td>\n      <td>253000.0</td>\n      <td>42.42</td>\n      <td>5964.0</td>\n      <td>2021-03-10</td>\n      <td>https://www.otodom.pl/pl/oferta/przestronne-m-...</td>\n    </tr>\n    <tr>\n      <th>2957</th>\n      <td>M2 Osiedle Mireckiego !!!</td>\n      <td>Polesie</td>\n      <td>1</td>\n      <td>252000.0</td>\n      <td>42.00</td>\n      <td>6000.0</td>\n      <td>2021-03-10</td>\n      <td>https://www.otodom.pl/pl/oferta/m2-osiedle-mir...</td>\n    </tr>\n    <tr>\n      <th>1941</th>\n      <td>M3 Retkinia parter, punktowiec</td>\n      <td>Polesie, Retkinia</td>\n      <td>2</td>\n      <td>252000.0</td>\n      <td>42.42</td>\n      <td>5941.0</td>\n      <td>2021-03-10</td>\n      <td>https://www.otodom.pl/pl/oferta/m3-retkinia-pa...</td>\n    </tr>\n  </tbody>\n</table>\n<p>216 rows × 8 columns</p>\n</div>"
     },
     "metadata": {},
     "execution_count": 6
    }
   ],
   "source": [
    "from data import get_best_offers\n",
    "\n",
    "get_best_offers(data)"
   ]
  },
  {
   "cell_type": "code",
   "execution_count": null,
   "metadata": {},
   "outputs": [],
   "source": []
  }
 ]
}