{
 "metadata": {
  "language_info": {
   "codemirror_mode": {
    "name": "ipython",
    "version": 3
   },
   "file_extension": ".py",
   "mimetype": "text/x-python",
   "name": "python",
   "nbconvert_exporter": "python",
   "pygments_lexer": "ipython3",
   "version": "3.9.2-final"
  },
  "orig_nbformat": 2,
  "kernelspec": {
   "name": "python3",
   "display_name": "Python 3.9.2 64-bit",
   "metadata": {
    "interpreter": {
     "hash": "4cd7ab41f5fca4b9b44701077e38c5ffd31fe66a6cab21e0214b68d958d0e462"
    }
   }
  }
 },
 "nbformat": 4,
 "nbformat_minor": 2,
 "cells": [
  {
   "cell_type": "code",
   "execution_count": 7,
   "metadata": {},
   "outputs": [
    {
     "output_type": "stream",
     "name": "stdout",
     "text": [
      "['./data/otodom-2021-03-09.csv']\n"
     ]
    }
   ],
   "source": [
    "from utils import get_file_names\n",
    "\n",
    "files = get_file_names()\n",
    "\n",
    "print(files)"
   ]
  },
  {
   "cell_type": "code",
   "execution_count": 8,
   "metadata": {},
   "outputs": [],
   "source": [
    "from utils import load_csvs\n",
    "\n",
    "data = load_csvs(files)"
   ]
  },
  {
   "cell_type": "code",
   "execution_count": 9,
   "metadata": {},
   "outputs": [
    {
     "output_type": "execute_result",
     "data": {
      "text/plain": [
       "         Data           Cena\n",
       "0  2021-03-09  328579.295414"
      ],
      "text/html": "<div>\n<style scoped>\n    .dataframe tbody tr th:only-of-type {\n        vertical-align: middle;\n    }\n\n    .dataframe tbody tr th {\n        vertical-align: top;\n    }\n\n    .dataframe thead th {\n        text-align: right;\n    }\n</style>\n<table border=\"1\" class=\"dataframe\">\n  <thead>\n    <tr style=\"text-align: right;\">\n      <th></th>\n      <th>Data</th>\n      <th>Cena</th>\n    </tr>\n  </thead>\n  <tbody>\n    <tr>\n      <th>0</th>\n      <td>2021-03-09</td>\n      <td>328579.295414</td>\n    </tr>\n  </tbody>\n</table>\n</div>"
     },
     "metadata": {},
     "execution_count": 9
    }
   ],
   "source": [
    "from data import calc_avg_price_per_day\n",
    "\n",
    "calc_avg_price_per_day(data)"
   ]
  },
  {
   "cell_type": "code",
   "execution_count": 10,
   "metadata": {},
   "outputs": [
    {
     "output_type": "execute_result",
     "data": {
      "text/plain": [
       "         Data   Cena za m2\n",
       "0  2021-03-09  6345.483439"
      ],
      "text/html": "<div>\n<style scoped>\n    .dataframe tbody tr th:only-of-type {\n        vertical-align: middle;\n    }\n\n    .dataframe tbody tr th {\n        vertical-align: top;\n    }\n\n    .dataframe thead th {\n        text-align: right;\n    }\n</style>\n<table border=\"1\" class=\"dataframe\">\n  <thead>\n    <tr style=\"text-align: right;\">\n      <th></th>\n      <th>Data</th>\n      <th>Cena za m2</th>\n    </tr>\n  </thead>\n  <tbody>\n    <tr>\n      <th>0</th>\n      <td>2021-03-09</td>\n      <td>6345.483439</td>\n    </tr>\n  </tbody>\n</table>\n</div>"
     },
     "metadata": {},
     "execution_count": 10
    }
   ],
   "source": [
    "from data import calc_avg_price_per_meter_per_day\n",
    "\n",
    "calc_avg_price_per_meter_per_day(data)"
   ]
  },
  {
   "cell_type": "code",
   "execution_count": 11,
   "metadata": {},
   "outputs": [
    {
     "output_type": "execute_result",
     "data": {
      "text/plain": [
       "     Powierzchnia       Cena\n",
       "0           11.50    79900.0\n",
       "1           13.00     7000.0\n",
       "2           13.06    64900.0\n",
       "3           14.00   135950.0\n",
       "4           14.14   135000.0\n",
       "..            ...        ...\n",
       "640        178.50   860000.0\n",
       "641        200.00  1000000.0\n",
       "642        220.00  1430000.0\n",
       "643        310.00  1100000.0\n",
       "644        343.59  1290000.0\n",
       "\n",
       "[645 rows x 2 columns]"
      ],
      "text/html": "<div>\n<style scoped>\n    .dataframe tbody tr th:only-of-type {\n        vertical-align: middle;\n    }\n\n    .dataframe tbody tr th {\n        vertical-align: top;\n    }\n\n    .dataframe thead th {\n        text-align: right;\n    }\n</style>\n<table border=\"1\" class=\"dataframe\">\n  <thead>\n    <tr style=\"text-align: right;\">\n      <th></th>\n      <th>Powierzchnia</th>\n      <th>Cena</th>\n    </tr>\n  </thead>\n  <tbody>\n    <tr>\n      <th>0</th>\n      <td>11.50</td>\n      <td>79900.0</td>\n    </tr>\n    <tr>\n      <th>1</th>\n      <td>13.00</td>\n      <td>7000.0</td>\n    </tr>\n    <tr>\n      <th>2</th>\n      <td>13.06</td>\n      <td>64900.0</td>\n    </tr>\n    <tr>\n      <th>3</th>\n      <td>14.00</td>\n      <td>135950.0</td>\n    </tr>\n    <tr>\n      <th>4</th>\n      <td>14.14</td>\n      <td>135000.0</td>\n    </tr>\n    <tr>\n      <th>...</th>\n      <td>...</td>\n      <td>...</td>\n    </tr>\n    <tr>\n      <th>640</th>\n      <td>178.50</td>\n      <td>860000.0</td>\n    </tr>\n    <tr>\n      <th>641</th>\n      <td>200.00</td>\n      <td>1000000.0</td>\n    </tr>\n    <tr>\n      <th>642</th>\n      <td>220.00</td>\n      <td>1430000.0</td>\n    </tr>\n    <tr>\n      <th>643</th>\n      <td>310.00</td>\n      <td>1100000.0</td>\n    </tr>\n    <tr>\n      <th>644</th>\n      <td>343.59</td>\n      <td>1290000.0</td>\n    </tr>\n  </tbody>\n</table>\n<p>645 rows × 2 columns</p>\n</div>"
     },
     "metadata": {},
     "execution_count": 11
    }
   ],
   "source": [
    "\n",
    "from data import calc_avg_price_per_area\n",
    "\n",
    "calc_avg_price_per_area(data)"
   ]
  },
  {
   "cell_type": "code",
   "execution_count": 12,
   "metadata": {},
   "outputs": [
    {
     "output_type": "execute_result",
     "data": {
      "text/plain": [
       "                                                   Opis          Dzielnica  \\\n",
       "1543  Atrakcyjne 2 pokojowe mieszkania, spokojna oko...             Bałuty   \n",
       "799                            M4 po remoncie Teofilów.   Bałuty, Teofilów   \n",
       "1086     M-4 (57) 7p./w. m.rozkładowe z balkonem/Bałuty            łódzkie   \n",
       "58    Mieszkanie Tribal Boho przy Filmówce i Parku Ź...            łódzkie   \n",
       "1421                        REZERWACJA!!!! Przełajowa 2  Polesie, Retkinia   \n",
       "...                                                 ...                ...   \n",
       "1400                          Mieszkanie - Łódź Żubardź    Bałuty, Żubardź   \n",
       "232                       Rozkładowe M3, Łódź- Retkinia  Polesie, Retkinia   \n",
       "1188  Przestronne \"M\" na Retkinii - 42,42 m2 Rezerwacja  Polesie, Retkinia   \n",
       "1353                          M2 Osiedle Mireckiego !!!            Polesie   \n",
       "326                      M3 Retkinia parter, punktowiec  Polesie, Retkinia   \n",
       "\n",
       "     Ilość pokoi      Cena  Powierzchnia  Cena za m2        Data  \\\n",
       "1543           2  349800.0         53.00      6600.0  2021-03-09   \n",
       "799            3  349000.0         57.90      6028.0  2021-03-09   \n",
       "1086           3  349000.0         57.00      6123.0  2021-03-09   \n",
       "58             2  349000.0         40.33      8654.0  2021-03-09   \n",
       "1421           3  349000.0         53.00      6585.0  2021-03-09   \n",
       "...          ...       ...           ...         ...         ...   \n",
       "1400           2  254000.0         44.00      5773.0  2021-03-09   \n",
       "232            2  254000.0         42.42      5988.0  2021-03-09   \n",
       "1188           2  253000.0         42.42      5964.0  2021-03-09   \n",
       "1353           1  252000.0         42.00      6000.0  2021-03-09   \n",
       "326            2  252000.0         42.42      5941.0  2021-03-09   \n",
       "\n",
       "                                     Link do ogłoszenia  \n",
       "1543  https://www.otodom.pl/pl/oferta/atrakcyjne-2-p...  \n",
       "799   https://www.otodom.pl/pl/oferta/m4-po-remoncie...  \n",
       "1086  https://www.otodom.pl/pl/oferta/m-4-57-7p-w-m-...  \n",
       "58    https://www.otodom.pl/pl/oferta/mieszkanie-tri...  \n",
       "1421  https://www.otodom.pl/pl/oferta/rezerwacja-prz...  \n",
       "...                                                 ...  \n",
       "1400  https://www.otodom.pl/pl/oferta/mieszkanie-lod...  \n",
       "232   https://www.otodom.pl/pl/oferta/rozkladowe-m3-...  \n",
       "1188  https://www.otodom.pl/pl/oferta/przestronne-m-...  \n",
       "1353  https://www.otodom.pl/pl/oferta/m2-osiedle-mir...  \n",
       "326   https://www.otodom.pl/pl/oferta/m3-retkinia-pa...  \n",
       "\n",
       "[229 rows x 8 columns]"
      ],
      "text/html": "<div>\n<style scoped>\n    .dataframe tbody tr th:only-of-type {\n        vertical-align: middle;\n    }\n\n    .dataframe tbody tr th {\n        vertical-align: top;\n    }\n\n    .dataframe thead th {\n        text-align: right;\n    }\n</style>\n<table border=\"1\" class=\"dataframe\">\n  <thead>\n    <tr style=\"text-align: right;\">\n      <th></th>\n      <th>Opis</th>\n      <th>Dzielnica</th>\n      <th>Ilość pokoi</th>\n      <th>Cena</th>\n      <th>Powierzchnia</th>\n      <th>Cena za m2</th>\n      <th>Data</th>\n      <th>Link do ogłoszenia</th>\n    </tr>\n  </thead>\n  <tbody>\n    <tr>\n      <th>1543</th>\n      <td>Atrakcyjne 2 pokojowe mieszkania, spokojna oko...</td>\n      <td>Bałuty</td>\n      <td>2</td>\n      <td>349800.0</td>\n      <td>53.00</td>\n      <td>6600.0</td>\n      <td>2021-03-09</td>\n      <td>https://www.otodom.pl/pl/oferta/atrakcyjne-2-p...</td>\n    </tr>\n    <tr>\n      <th>799</th>\n      <td>M4 po remoncie Teofilów.</td>\n      <td>Bałuty, Teofilów</td>\n      <td>3</td>\n      <td>349000.0</td>\n      <td>57.90</td>\n      <td>6028.0</td>\n      <td>2021-03-09</td>\n      <td>https://www.otodom.pl/pl/oferta/m4-po-remoncie...</td>\n    </tr>\n    <tr>\n      <th>1086</th>\n      <td>M-4 (57) 7p./w. m.rozkładowe z balkonem/Bałuty</td>\n      <td>łódzkie</td>\n      <td>3</td>\n      <td>349000.0</td>\n      <td>57.00</td>\n      <td>6123.0</td>\n      <td>2021-03-09</td>\n      <td>https://www.otodom.pl/pl/oferta/m-4-57-7p-w-m-...</td>\n    </tr>\n    <tr>\n      <th>58</th>\n      <td>Mieszkanie Tribal Boho przy Filmówce i Parku Ź...</td>\n      <td>łódzkie</td>\n      <td>2</td>\n      <td>349000.0</td>\n      <td>40.33</td>\n      <td>8654.0</td>\n      <td>2021-03-09</td>\n      <td>https://www.otodom.pl/pl/oferta/mieszkanie-tri...</td>\n    </tr>\n    <tr>\n      <th>1421</th>\n      <td>REZERWACJA!!!! Przełajowa 2</td>\n      <td>Polesie, Retkinia</td>\n      <td>3</td>\n      <td>349000.0</td>\n      <td>53.00</td>\n      <td>6585.0</td>\n      <td>2021-03-09</td>\n      <td>https://www.otodom.pl/pl/oferta/rezerwacja-prz...</td>\n    </tr>\n    <tr>\n      <th>...</th>\n      <td>...</td>\n      <td>...</td>\n      <td>...</td>\n      <td>...</td>\n      <td>...</td>\n      <td>...</td>\n      <td>...</td>\n      <td>...</td>\n    </tr>\n    <tr>\n      <th>1400</th>\n      <td>Mieszkanie - Łódź Żubardź</td>\n      <td>Bałuty, Żubardź</td>\n      <td>2</td>\n      <td>254000.0</td>\n      <td>44.00</td>\n      <td>5773.0</td>\n      <td>2021-03-09</td>\n      <td>https://www.otodom.pl/pl/oferta/mieszkanie-lod...</td>\n    </tr>\n    <tr>\n      <th>232</th>\n      <td>Rozkładowe M3, Łódź- Retkinia</td>\n      <td>Polesie, Retkinia</td>\n      <td>2</td>\n      <td>254000.0</td>\n      <td>42.42</td>\n      <td>5988.0</td>\n      <td>2021-03-09</td>\n      <td>https://www.otodom.pl/pl/oferta/rozkladowe-m3-...</td>\n    </tr>\n    <tr>\n      <th>1188</th>\n      <td>Przestronne \"M\" na Retkinii - 42,42 m2 Rezerwacja</td>\n      <td>Polesie, Retkinia</td>\n      <td>2</td>\n      <td>253000.0</td>\n      <td>42.42</td>\n      <td>5964.0</td>\n      <td>2021-03-09</td>\n      <td>https://www.otodom.pl/pl/oferta/przestronne-m-...</td>\n    </tr>\n    <tr>\n      <th>1353</th>\n      <td>M2 Osiedle Mireckiego !!!</td>\n      <td>Polesie</td>\n      <td>1</td>\n      <td>252000.0</td>\n      <td>42.00</td>\n      <td>6000.0</td>\n      <td>2021-03-09</td>\n      <td>https://www.otodom.pl/pl/oferta/m2-osiedle-mir...</td>\n    </tr>\n    <tr>\n      <th>326</th>\n      <td>M3 Retkinia parter, punktowiec</td>\n      <td>Polesie, Retkinia</td>\n      <td>2</td>\n      <td>252000.0</td>\n      <td>42.42</td>\n      <td>5941.0</td>\n      <td>2021-03-09</td>\n      <td>https://www.otodom.pl/pl/oferta/m3-retkinia-pa...</td>\n    </tr>\n  </tbody>\n</table>\n<p>229 rows × 8 columns</p>\n</div>"
     },
     "metadata": {},
     "execution_count": 12
    }
   ],
   "source": [
    "from data import get_best_offers\n",
    "\n",
    "get_best_offers(data)"
   ]
  },
  {
   "cell_type": "code",
   "execution_count": null,
   "metadata": {},
   "outputs": [],
   "source": []
  }
 ]
}