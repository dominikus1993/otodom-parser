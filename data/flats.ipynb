{
 "cells": [
  {
   "cell_type": "code",
   "execution_count": 10,
   "metadata": {},
   "outputs": [],
   "source": [
    "import pandas as pd\n",
    "import datetime\n",
    "import streamlit as st\n",
    "from typing import List\n",
    "pd.set_option('display.max_colwidth', -1)\n",
    "pd.set_option(\"display.max_rows\", None, \"display.max_columns\", None)\n",
    "dates = [\"Data\"]\n",
    "\n",
    "dtypes = { 'Opis': 'str', 'Dzielnica': 'str', 'Ilość pokoi': 'str', 'Cena': 'float', 'Powierzchnia': 'float', 'Cena za m2': 'float', 'Data': 'str', 'Link do ogłoszenia': 'str'}\n",
    "def get_file_names():\n",
    "    today = datetime.datetime.today().strftime(\"%Y-%m-%d\")\n",
    "    dates: list[str] = pd.date_range(start=\"2020-12-10\", end=today).to_native_types().tolist()\n",
    "    return list(map(lambda d: f'otodom-{d}.csv', dates))\n",
    "\n",
    "\n",
    "def load_csvs(filenames: List[str]):\n",
    "    csvs = []\n",
    "    for filename in filenames:\n",
    "        try:\n",
    "            df = pd.read_csv(f'./{filename}', index_col=None, header=0, dtype= dtypes, parse_dates=dates)\n",
    "            csvs.append(df)\n",
    "        except:\n",
    "            pass        \n",
    "    return pd.concat(csvs, axis=0, ignore_index=True)"
   ]
  },
  {
   "cell_type": "code",
   "execution_count": 11,
   "metadata": {},
   "outputs": [],
   "source": [
    "files = get_file_names()\n",
    "data = load_csvs(files)"
   ]
  },
  {
   "cell_type": "code",
   "execution_count": null,
   "metadata": {},
   "outputs": [],
   "source": [
    "data.colums"
   ]
  }
 ],
 "metadata": {
  "kernelspec": {
   "name": "python3",
   "display_name": "Python 3.9.1 64-bit",
   "metadata": {
    "interpreter": {
     "hash": "63fd5069d213b44bf678585dea6b12cceca9941eaf7f819626cde1f2670de90d"
    }
   }
  },
  "language_info": {
   "codemirror_mode": {
    "name": "ipython",
    "version": 3
   },
   "file_extension": ".py",
   "mimetype": "text/x-python",
   "name": "python",
   "nbconvert_exporter": "python",
   "pygments_lexer": "ipython3",
   "version": "3.9.1-final"
  }
 },
 "nbformat": 4,
 "nbformat_minor": 4
}